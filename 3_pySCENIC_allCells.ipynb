{
 "cells": [
  {
   "cell_type": "markdown",
   "metadata": {},
   "source": [
    "## Script to load in a processed seurat object and run pySCENIC\n",
    "\n",
    "To get your processed Seurat object into adata format you can use conversion functions, such as:\n",
    "```r\n",
    "#load custom functions\n",
    "source(\"/pl/active/CSUClinHeme/users/dylan/repos/scrna-seq/analysis-code/customFunctions_Seuratv5.R\")\n",
    "\n",
    "#load in processed R data and subset on cells of interest\n",
    "seu.obj <- readRDS(\"../output/s3/240201_bm_cd34_removed_disconnected.rds\")\n",
    "\n",
    "cnts <- seu.obj@assays$RNA$counts\n",
    "cnts <- orthogene::convert_orthologs(gene_df = cnts,\n",
    "                                        gene_input = \"rownames\", \n",
    "                                        gene_output = \"rownames\", \n",
    "                                        input_species = \"dog\",\n",
    "                                        output_species = \"human\",\n",
    "                                        non121_strategy = \"drop_both_species\") \n",
    "rownames(cnts) <- unname(rownames(cnts))\n",
    "\n",
    "seu.obj <- CreateSeuratObject(cnts, project = \"humanConvert\", assay = \"RNA\",\n",
    "                                  min.cells = 0, min.features = 0, names.field = 1,\n",
    "                                  names.delim = \"_\", meta.data = seu.obj@meta.data)\n",
    "\n",
    "#covert back to an older Seurat object for compatiability with \n",
    "seu.obj[[\"RNA\"]] <- as(object = seu.obj[[\"RNA\"]], Class = \"Assay\")\n",
    "seu.obj <- NormalizeData(seu.obj)\n",
    "\n",
    "SaveH5Seurat(seu.obj, filename = \"../output/s3/allcells_hu.h5Seurat\", verbose = TRUE, overwrite = T)\n",
    "Convert(\"../output/s3/allcells_hu.h5Seurat\", dest = \"h5ad\", overwrite = T)\n",
    "\n",
    "```"
   ]
  },
  {
   "cell_type": "markdown",
   "metadata": {},
   "source": [
    "### Note: TF files were obtained from https://resources.aertslab.org/cistarget/"
   ]
  },
  {
   "cell_type": "code",
   "execution_count": 1,
   "metadata": {},
   "outputs": [],
   "source": [
    "import os\n",
    "import numpy as np\n",
    "import pandas as pd\n",
    "import scanpy as sc\n",
    "import loompy as lp\n",
    "from matplotlib.pyplot import rc_context\n",
    "from MulticoreTSNE import MulticoreTSNE as TSNE\n",
    "from pyscenic.export import export2loom, add_scenic_metadata\n",
    "\n",
    "import seaborn as sns\n",
    "import matplotlib.pyplot as plt\n",
    "import scipy \n",
    "\n",
    "import glob\n",
    "\n",
    "import json\n",
    "import zlib\n",
    "import base64"
   ]
  },
  {
   "cell_type": "code",
   "execution_count": 2,
   "metadata": {},
   "outputs": [],
   "source": [
    "FIGURES_FOLDERNAME=\"../output/scenic/\"\n",
    "def savesvg(fname: str, fig, folder: str=FIGURES_FOLDERNAME) -> None:\n",
    "    \"\"\"\n",
    "    Save figure as vector-based SVG image format.\n",
    "    \"\"\"\n",
    "    fig.tight_layout()\n",
    "    fig.savefig(os.path.join(folder, fname), format='svg')"
   ]
  },
  {
   "cell_type": "code",
   "execution_count": 29,
   "metadata": {},
   "outputs": [
    {
     "data": {
      "text/plain": [
       "AnnData object with n_obs × n_vars = 22988 × 11606\n",
       "    obs: 'orig.ident', 'nCount_RNA', 'nFeature_RNA', 'percent.mt', 'percent.hbm', 'percent.ppbp', 'RNA_snn_res.0.1', 'seurat_clusters', 'int.clusID', 'pANN_0.25_0.01_274', 'DF.classifications_0.25_0.01_274', 'doublet', 'S.Score', 'G2M.Score', 'Phase', 'clusters', 'pANN_0.25_0.19_108', 'DF.classifications_0.25_0.19_108', 'pANN_0.25_0.02_98', 'DF.classifications_0.25_0.02_98', 'pANN_0.25_0.11_115', 'DF.classifications_0.25_0.11_115', 'pANN_0.25_0.005_95', 'DF.classifications_0.25_0.005_95', 'unintegrated_clusters', 'RNA_snn_res.0.6', 'clusterID_integrated.cca', 'clusterID_integrated.harmony', 'clusterID_integrated.joint', 'clusterID_integrated.rcpa', 'name', 'colz', 'cellSource', 'minorIdent'\n",
       "    var: 'features'"
      ]
     },
     "execution_count": 29,
     "metadata": {},
     "output_type": "execute_result"
    }
   ],
   "source": [
    "#load in the data\n",
    "adata = sc.read_h5ad(\"../output/s3/allcells_hu.h5ad\")\n",
    "adata"
   ]
  },
  {
   "cell_type": "code",
   "execution_count": 32,
   "metadata": {},
   "outputs": [],
   "source": [
    "#convert from numeric to string and add major ident\n",
    "anno = adata.obs\n",
    "\n",
    "#load metadata\n",
    "df = pd.read_csv(\"./metaData/allCells_ID_disconected.csv\")\n",
    "\n",
    "anno = anno.merge(df, on = 'clusterID_integrated.harmony', how = 'left')\n",
    "anno['clusterID_integrated.harmony'] = anno['clusterID_integrated.harmony'].astype(str)\n",
    "anno.index = adata.obs.index\n",
    "adata.obs = anno"
   ]
  },
  {
   "cell_type": "code",
   "execution_count": 33,
   "metadata": {},
   "outputs": [],
   "source": [
    "#convert index to gene symbol\n",
    "tempAdata = adata.raw.to_adata()\n",
    "tempAdata.var_names = adata.var['features']\n",
    "adata.raw = tempAdata"
   ]
  },
  {
   "cell_type": "code",
   "execution_count": 6,
   "metadata": {},
   "outputs": [],
   "source": [
    "#cant run b/c UMAP coords weren't brought over\n",
    "# sc.pl.umap(adata, color=['IGHM','majorID_sub2','name'], use_raw = False)"
   ]
  },
  {
   "cell_type": "code",
   "execution_count": 24,
   "metadata": {},
   "outputs": [],
   "source": [
    "# create basic row and column attributes for the loom file:\n",
    "row_attrs = {\n",
    "    \"Gene\": np.array(adata.var_names) ,\n",
    "}\n",
    "col_attrs = {\n",
    "    \"CellID\": np.array(adata.obs_names) ,\n",
    "    \"nGene\": np.array( np.sum(adata.X.transpose()>0 , axis=0)).flatten() ,\n",
    "    \"nUMI\": np.array( np.sum(adata.X.transpose() , axis=0)).flatten() ,\n",
    "}\n",
    "lp.create( \"../output/s3/allcells_hu.loom\", adata.X.transpose(), row_attrs, col_attrs)"
   ]
  },
  {
   "cell_type": "markdown",
   "metadata": {},
   "source": [
    "The easiest way to run the code is to use a sbatch script, so generate a script with:"
   ]
  },
  {
   "cell_type": "code",
   "execution_count": 8,
   "metadata": {},
   "outputs": [],
   "source": [
    "!echo \"#!/usr/bin/env bash\" > cute_pyScenic_grn.sbatch\n",
    "!echo \"#SBATCH --job-name=pySCENIC_grn\" >> cute_pyScenic_grn.sbatch\n",
    "\n",
    "!echo \"#SBATCH --nodes=1\" >> cute_pyScenic_grn.sbatch\n",
    "!echo \"#SBATCH --ntasks=16\" >> cute_pyScenic_grn.sbatch\n",
    "!echo \"#SBATCH --time=06:00:00\" >> cute_pyScenic_grn.sbatch\n",
    "\n",
    "!echo \"#SBATCH --partition=amilan\" >> cute_pyScenic_grn.sbatch\n",
    "!echo \"#SBATCH --qos=normal\" >> cute_pyScenic_grn.sbatch\n",
    "\n",
    "!echo \"#SBATCH --mail-type=END\" >> cute_pyScenic_grn.sbatch\n",
    "!echo \"#SBATCH --mail-user=dyammons@colostate.edu\" >> cute_pyScenic_grn.sbatch\n",
    "!echo \"#SBATCH --output=pySCENIC_grn-%j.log\" >> cute_pyScenic_grn.sbatch\n",
    "\n",
    "!echo \"\" >> cute_pyScenic_grn.sbatch\n",
    "\n",
    "!echo \"module purge\" >> cute_pyScenic_grn.sbatch\n",
    "\n",
    "!echo \"\" >> cute_pyScenic_grn.sbatch\n",
    "\n",
    "!echo \"singularity exec -B $PWD/../ ../software/aertslab-pyscenic-scanpy-0.12.1-1.9.1.sif pyscenic grn \\\\\" >> cute_pyScenic_grn.sbatch\n",
    "!echo \"--num_workers \\$SLURM_NTASKS \\\\\" >> cute_pyScenic_grn.sbatch\n",
    "!echo \"-o ../output/scenic/adj_allCells.csv \\\\\" >> cute_pyScenic_grn.sbatch\n",
    "!echo \"../output/s3/allcells_hu.loom \\\\\" >> cute_pyScenic_grn.sbatch\n",
    "!echo \"./metaData/allTFs_hg38.txt\" >> cute_pyScenic_grn.sbatch"
   ]
  },
  {
   "cell_type": "code",
   "execution_count": 9,
   "metadata": {},
   "outputs": [
    {
     "name": "stdout",
     "output_type": "stream",
     "text": [
      "Submitted batch job 4706436\n"
     ]
    }
   ],
   "source": [
    "#submit the job\n",
    "!sbatch cute_pyScenic_grn.sbatch"
   ]
  },
  {
   "cell_type": "code",
   "execution_count": 3,
   "metadata": {},
   "outputs": [],
   "source": [
    "!echo \"#!/usr/bin/env bash\" > cute_pyScenic_ctx.sbatch\n",
    "!echo \"#SBATCH --job-name=pySCENIC_ctx\" >> cute_pyScenic_ctx.sbatch\n",
    "\n",
    "!echo \"#SBATCH --nodes=1\" >> cute_pyScenic_ctx.sbatch\n",
    "!echo \"#SBATCH --ntasks=16\" >> cute_pyScenic_ctx.sbatch\n",
    "!echo \"#SBATCH --time=00:60:00\" >> cute_pyScenic_ctx.sbatch\n",
    "\n",
    "!echo \"#SBATCH --partition=atesting\" >> cute_pyScenic_ctx.sbatch\n",
    "!echo \"#SBATCH --qos=normal\" >> cute_pyScenic_ctx.sbatch\n",
    "\n",
    "!echo \"#SBATCH --mail-type=END\" >> cute_pyScenic_ctx.sbatch\n",
    "!echo \"#SBATCH --mail-user=dyammons@colostate.edu\" >> cute_pyScenic_ctx.sbatch\n",
    "!echo \"#SBATCH --output=pySCENIC_ctx-%j.log\" >> cute_pyScenic_ctx.sbatch\n",
    "\n",
    "!echo \"\" >> cute_pyScenic_ctx.sbatch\n",
    "\n",
    "!echo \"module purge\" >> cute_pyScenic_ctx.sbatch\n",
    "\n",
    "!echo \"\" >> cute_pyScenic_ctx.sbatch\n",
    "\n",
    "!echo \"singularity exec -B $PWD/../ ../software/aertslab-pyscenic-scanpy-0.12.1-1.9.1.sif pyscenic ctx \\\\\" >> cute_pyScenic_ctx.sbatch\n",
    "!echo \"../output/scenic/adj_allCells.csv \\\\\" >> cute_pyScenic_ctx.sbatch\n",
    "!echo \"./metaData/hg38_10kbp_up_10kbp_down_full_tx_v10_clust.genes_vs_motifs.rankings.feather ./metaData/hg38_500bp_up_100bp_down_full_tx_v10_clust.genes_vs_motifs.rankings.feather \\\\\" >> cute_pyScenic_ctx.sbatch\n",
    "!echo \"--annotations_fname ./metaData/motifs-v10nr_clust-nr.hgnc-m0.001-o0.0.tbl \\\\\" >> cute_pyScenic_ctx.sbatch\n",
    "!echo \"--expression_mtx_fname ../output/s3/allcells_hu.loom \\\\\" >> cute_pyScenic_ctx.sbatch\n",
    "!echo \"--output ../output/scenic/reg_allCells.csv \\\\\" >> cute_pyScenic_ctx.sbatch\n",
    "!echo \"--mask_dropouts \\\\\" >> cute_pyScenic_ctx.sbatch\n",
    "!echo \"--num_workers \\$SLURM_NTASKS\" >> cute_pyScenic_ctx.sbatch\n"
   ]
  },
  {
   "cell_type": "code",
   "execution_count": 4,
   "metadata": {},
   "outputs": [
    {
     "name": "stdout",
     "output_type": "stream",
     "text": [
      "Submitted batch job 4994510\n"
     ]
    }
   ],
   "source": [
    "#submit the job; took 8 min....\n",
    "!sbatch cute_pyScenic_ctx.sbatch"
   ]
  },
  {
   "cell_type": "code",
   "execution_count": 5,
   "metadata": {},
   "outputs": [],
   "source": [
    "!echo \"#!/usr/bin/env bash\" > cute_pyScenic_aucell.sbatch\n",
    "!echo \"#SBATCH --job-name=pySCENIC_auc\" >> cute_pyScenic_aucell.sbatch\n",
    "\n",
    "!echo \"#SBATCH --nodes=1\" >> cute_pyScenic_aucell.sbatch\n",
    "!echo \"#SBATCH --ntasks=8\" >> cute_pyScenic_aucell.sbatch\n",
    "!echo \"#SBATCH --time=0:20:00\" >> cute_pyScenic_aucell.sbatch\n",
    "\n",
    "!echo \"#SBATCH --partition=atesting\" >> cute_pyScenic_aucell.sbatch\n",
    "!echo \"#SBATCH --qos=normal\" >> cute_pyScenic_aucell.sbatch\n",
    "\n",
    "!echo \"#SBATCH --mail-type=END\" >> cute_pyScenic_aucell.sbatch\n",
    "!echo \"#SBATCH --mail-user=dyammons@colostate.edu\" >> cute_pyScenic_aucell.sbatch\n",
    "!echo \"#SBATCH --output=pySCENIC_auc-%j.log\" >> cute_pyScenic_aucell.sbatch\n",
    "\n",
    "!echo \"\" >> cute_pyScenic_aucell.sbatch\n",
    "!echo \"module purge\" >> cute_pyScenic_aucell.sbatch\n",
    "\n",
    "!echo \"\" >> cute_pyScenic_aucell.sbatch\n",
    "\n",
    "!echo \"singularity exec -B $PWD/../ ../software/aertslab-pyscenic-scanpy-0.12.1-1.9.1.sif pyscenic aucell \\\\\" >> cute_pyScenic_aucell.sbatch\n",
    "!echo \"../output/s3/allcells_hu.loom \\\\\" >> cute_pyScenic_aucell.sbatch\n",
    "!echo \"../output/scenic/reg_allCells.csv \\\\\" >> cute_pyScenic_aucell.sbatch\n",
    "!echo \"--output ../output/scenic/allcells_hu_output.loom \\\\\" >> cute_pyScenic_aucell.sbatch\n",
    "!echo \"--num_workers \\$SLURM_NTASKS\" >> cute_pyScenic_aucell.sbatch\n"
   ]
  },
  {
   "cell_type": "code",
   "execution_count": 6,
   "metadata": {},
   "outputs": [
    {
     "name": "stdout",
     "output_type": "stream",
     "text": [
      "Submitted batch job 4994690\n"
     ]
    }
   ],
   "source": [
    "#took 2 min....\n",
    "!sbatch cute_pyScenic_aucell.sbatch"
   ]
  },
  {
   "cell_type": "code",
   "execution_count": 3,
   "metadata": {},
   "outputs": [],
   "source": [
    "from pyscenic.rss import regulon_specificity_scores\n",
    "from pyscenic.plotting import plot_rss\n",
    "import matplotlib.pyplot as plt\n",
    "# from adjustText import adjust_text\n",
    "import seaborn as sns\n",
    "from pyscenic.binarization import binarize"
   ]
  },
  {
   "cell_type": "code",
   "execution_count": 35,
   "metadata": {},
   "outputs": [],
   "source": [
    "# collect SCENIC AUCell output\n",
    "# lf = lp.connect(\"./output/scenic/dc_scenic_output_231023.loom\", mode='r+', validate=False )\n",
    "lf = lp.connect(\"../output/scenic/allcells_hu_output.loom\", mode='r+', validate=False )\n",
    "auc_mtx = pd.DataFrame( lf.ca.RegulonsAUC, index=lf.ca.CellID)\n",
    "lf.close()\n",
    "\n",
    "#write to .csv to load in Seurat object\n",
    "pd.DataFrame.to_csv(auc_mtx, \"../output/scenic/auc_mtx_allcells_hu.csv\")"
   ]
  },
  {
   "cell_type": "markdown",
   "metadata": {},
   "source": [
    "### Calculate RSS and save as .csv for further plotting"
   ]
  },
  {
   "cell_type": "code",
   "execution_count": null,
   "metadata": {},
   "outputs": [],
   "source": [
    "rss = regulon_specificity_scores(auc_mtx, adata.obs['clusterID_integrated.harmony'])\n",
    "pd.DataFrame.to_csv(rss, \"../output/scenic/allcells_hu_rss.csv\")"
   ]
  },
  {
   "cell_type": "markdown",
   "metadata": {},
   "source": [
    "R code to plot the RSS results\n",
    "```r\n",
    "library(tidyverse)\n",
    "library(ggrepel)\n",
    "library(patchwork)\n",
    "\n",
    "df <- read.csv(\"../output/scenic/allcells_hu_rss.csv\", row.names = 1)\n",
    "colnames(df) <- gsub('\\\\.\\\\.\\\\.',\"\",colnames(df))\n",
    "df.all <- t(df) %>% as.data.frame() %>% rownames_to_column() %>% na.omit()\n",
    "\n",
    "labCut = 10\n",
    "pi <- lapply(2:ncol(df.all), function(x){\n",
    "    #prep data\n",
    "    celltype <- colnames(df.all)[x]\n",
    "    df <- df.all[ ,c(\"rowname\",celltype)] \n",
    "    colnames(df) <- c(\"gene\", \"clus\")\n",
    "    df <- df %>% arrange(desc(clus))\n",
    "    df[ ,\"gene\"] <- factor(df[ ,\"gene\"], levels = df[ ,\"gene\"])\n",
    "    df <- df %>% mutate(colz = ifelse(row_number() < labCut+1, \"#FF6961\", \"lightblue\"),\n",
    "                        labz = ifelse(row_number() < labCut+1, as.character(gene), NA))\n",
    "    \n",
    "    #plot the data\n",
    "    p <- ggplot(df, aes(x = gene, y = clus, label = labz)) +\n",
    "    geom_point(colour = df$colz, size = 2) + \n",
    "    geom_text_repel(\n",
    "        force = 0.01,\n",
    "        nudge_x = nrow(df)*0.5,\n",
    "        direction = \"y\",\n",
    "        seed = 42, \n",
    "        box.padding = 0.25,\n",
    "        #hjust = 0,\n",
    "        #segment.size = 0.2, \n",
    "        size = 4, \n",
    "        color = df$colz,\n",
    "        max.iter = 100000000,\n",
    "        max.overlaps = 10\n",
    "    ) + \n",
    "    labs(\n",
    "        title = celltype,\n",
    "        x = \"Regulon\",\n",
    "        y = \"rss\"\n",
    "    ) + \n",
    "    theme_classic() + \n",
    "    theme(\n",
    "        axis.ticks.x = element_blank(),\n",
    "        axis.text.x = element_blank(),\n",
    "        panel.border = element_blank(),\n",
    "        plot.margin = unit(c(10, 10, 10, 10), \"pt\"),\n",
    "        panel.background = element_rect(fill = \"transparent\",colour = NA),\n",
    "        plot.background = element_rect(fill = \"transparent\",colour = NA),\n",
    "        panel.grid.major = element_blank(), \n",
    "        panel.grid.minor = element_blank()\n",
    "    ) + \n",
    "    scale_y_continuous(\n",
    "        breaks = function(y) {\n",
    "            seq(floor(min(y, digits = 1)), \n",
    "            ceiling(max(y, digits = 1)), \n",
    "            by = 0.1)\n",
    "        }\n",
    "    ) + coord_cartesian(expand = TRUE, clip = \"off\")\n",
    "\n",
    "    #return/save plot\n",
    "    ggsave(paste0(\"../output/scenic/\", gsub(\" \", \"_\", celltype), \"_rss.png\"), height = 5, width = 3)\n",
    "    return(p)\n",
    "})\n",
    "\n",
    "\n",
    "p <- Reduce( `+`, pi) + plot_layout(ncol = 6)\n",
    "ggsave(plot = p, \"../output/scenic/main_branches_rss.png\", height = 4, width = 10)\n",
    "\n",
    "```"
   ]
  },
  {
   "cell_type": "markdown",
   "metadata": {},
   "source": [
    "### Extract data for further plotting"
   ]
  },
  {
   "cell_type": "code",
   "execution_count": 36,
   "metadata": {},
   "outputs": [],
   "source": [
    "#clean the matrix to join\n",
    "auc_mtx.index.name = 'barcode'\n",
    "auc_mtx.reset_index(inplace=True)\n",
    "\n",
    "#clean the cell barcode info\n",
    "dicT = {'barcode' : adata.obs.index.tolist(), \n",
    "        'majorID' : adata.obs['majorID'].tolist()}\n",
    "cellAnn = pd.DataFrame(dicT)\n",
    "\n",
    "#join the data\n",
    "auc_mtx = auc_mtx.merge(cellAnn, on = 'barcode', how = 'left')"
   ]
  },
  {
   "cell_type": "code",
   "execution_count": 44,
   "metadata": {},
   "outputs": [
    {
     "data": {
      "text/html": [
       "<div>\n",
       "<style scoped>\n",
       "    .dataframe tbody tr th:only-of-type {\n",
       "        vertical-align: middle;\n",
       "    }\n",
       "\n",
       "    .dataframe tbody tr th {\n",
       "        vertical-align: top;\n",
       "    }\n",
       "\n",
       "    .dataframe thead th {\n",
       "        text-align: right;\n",
       "    }\n",
       "</style>\n",
       "<table border=\"1\" class=\"dataframe\">\n",
       "  <thead>\n",
       "    <tr style=\"text-align: right;\">\n",
       "      <th></th>\n",
       "      <th>majorID</th>\n",
       "      <th>regulon</th>\n",
       "      <th>Z</th>\n",
       "    </tr>\n",
       "  </thead>\n",
       "  <tbody>\n",
       "    <tr>\n",
       "      <th>414</th>\n",
       "      <td>Erythroid</td>\n",
       "      <td>GFI1B</td>\n",
       "      <td>2.833932</td>\n",
       "    </tr>\n",
       "    <tr>\n",
       "      <th>506</th>\n",
       "      <td>Erythroid</td>\n",
       "      <td>PBX1</td>\n",
       "      <td>2.414676</td>\n",
       "    </tr>\n",
       "    <tr>\n",
       "      <th>525</th>\n",
       "      <td>Erythroid</td>\n",
       "      <td>RB1</td>\n",
       "      <td>2.395796</td>\n",
       "    </tr>\n",
       "    <tr>\n",
       "      <th>556</th>\n",
       "      <td>Erythroid</td>\n",
       "      <td>SOX6</td>\n",
       "      <td>2.370789</td>\n",
       "    </tr>\n",
       "    <tr>\n",
       "      <th>486</th>\n",
       "      <td>Erythroid</td>\n",
       "      <td>NFIA</td>\n",
       "      <td>2.357423</td>\n",
       "    </tr>\n",
       "  </tbody>\n",
       "</table>\n",
       "</div>"
      ],
      "text/plain": [
       "       majorID regulon         Z\n",
       "414  Erythroid   GFI1B  2.833932\n",
       "506  Erythroid    PBX1  2.414676\n",
       "525  Erythroid     RB1  2.395796\n",
       "556  Erythroid    SOX6  2.370789\n",
       "486  Erythroid    NFIA  2.357423"
      ]
     },
     "execution_count": 44,
     "metadata": {},
     "output_type": "execute_result"
    }
   ],
   "source": [
    "#calc Z score for each regulon by cluster ID\n",
    "regColNames = list(auc_mtx.columns[1:len(auc_mtx.columns)-1])\n",
    "df_res = ((auc_mtx.groupby(by='majorID').mean() - auc_mtx[regColNames].mean())/ auc_mtx[regColNames].std()).stack().reset_index().rename(columns={'level_1': 'regulon', 0:'Z'})\n",
    "df_res['regulon'] = list(map(lambda s: s[0:-3], df_res.regulon))\n",
    "df_res[(df_res.Z >= 0)].sort_values('Z', ascending=False).head()"
   ]
  },
  {
   "cell_type": "code",
   "execution_count": 49,
   "metadata": {},
   "outputs": [
    {
     "data": {
      "image/png": "[encoded data removed]",
      "text/plain": [
       "<Figure size 1008x864 with 1 Axes>"
      ]
     },
     "metadata": {
      "needs_background": "light"
     },
     "output_type": "display_data"
    }
   ],
   "source": [
    "df_heatmap = pd.pivot_table(data = df_res[df_res.Z >= 0.75].sort_values('Z', ascending = False),\n",
    "                           index = 'majorID', columns = 'regulon', values = 'Z')\n",
    "#df_heatmap.drop(index='Myocyte', inplace=True) # We leave out Myocyte because many TFs are highly enriched (becuase of small number of cells).\n",
    "fig, ax1 = plt.subplots(1, 1, figsize=(14, 12))\n",
    "sns.heatmap(df_heatmap, ax=ax1, annot=True, fmt=\".1f\", linewidths=.7, cbar=False, square=True, linecolor='gray', \n",
    "            cmap=\"YlGnBu\", annot_kws={\"size\": 6})\n",
    "ax1.set_ylabel('')\n",
    "savesvg('heatmap.svg', fig)"
   ]
  },
  {
   "cell_type": "markdown",
   "metadata": {},
   "source": [
    "### Load in the auc_mtx data to plot TF activity and reduce data based in the results"
   ]
  },
  {
   "cell_type": "code",
   "execution_count": null,
   "metadata": {},
   "outputs": [],
   "source": [
    "#load in the data\n",
    "outName <- \"scenic\"\n",
    "seu.obj <- readRDS(\"../output/s3/240201_bm_cd34_removed_disconnected.rds\")\n",
    "df <- read.csv(\"../output/scenic/auc_mtx_allcells_hu.csv\", row.names = 1)\n",
    "colnames(df) <- gsub('\\\\.\\\\.\\\\.',\"-tf\",colnames(df))\n",
    "\n",
    "tf_assay <- CreateAssay5Object(counts = t(df))\n",
    "seu.obj[[\"TF\"]] <- tf_assay\n",
    "\n",
    "DefaultAssay(seu.obj) <- \"TF\"\n",
    "seu.obj <- ScaleData(seu.obj)\n",
    "seu.obj@reductions$tf <- seu.obj@assays$TF$scale.data\n",
    "\n",
    "seu.obj <- IntegrateLayers(object = seu.obj, \n",
    "                           assay = \"TF\",\n",
    "                                   method = HarmonyIntegration, \n",
    "                                   orig.reduction = \"tf\", \n",
    "                                   new.reduction = \"integrated.harmony\",\n",
    "                                   normalization.method = \"LogNormalize\",\n",
    "                                   verbose = FALSE)\n",
    "\n",
    "\n",
    "DefaultAssay(seu.obj) <- \"TF\"\n",
    "seu.obj@assays$TF$data <- seu.obj@assays$TF$counts\n",
    "features <- c(\"GFI1B-tf\", \"EBF1-tf\", \"MAFB-tf\", \"CEBPE-tf\")\n",
    "p <- prettyFeats(seu.obj = seu.obj, nrow = 1, ncol = 4, title.size = 14, features = features, order = F, legJust = \"top\", reduction = \"umap.integrated.harmony\", highCol = \"darkgreen\", noLegend = T)\n",
    "ggsave(paste0(\"../output/\", outName, \"/\", outName, \"_tfPlots.png\"), width = 12, height = 3)\n",
    "\n",
    "DefaultAssay(seu.obj) <- \"RNA\"\n",
    "features <- c(\"GATA1\", \"EBF1\",\"MAFB\", \"JUNB\")\n",
    "p2 <- prettyFeats(seu.obj, features = features, reduction = \"umap.integrated.harmony\", nrow = 1, ncol = 4, title.size = 14, noLegend = T)\n",
    "ggsave(paste0(\"../output/\", outName, \"/\", outName, \"_featPlots.png\"), width = 12, height = 3)"
   ]
  }
 ],
 "metadata": {
  "kernelspec": {
   "display_name": "scPy",
   "language": "python",
   "name": "scpy"
  },
  "language_info": {
   "codemirror_mode": {
    "name": "ipython",
    "version": 3
   },
   "file_extension": ".py",
   "mimetype": "text/x-python",
   "name": "python",
   "nbconvert_exporter": "python",
   "pygments_lexer": "ipython3",
   "version": "3.6.13"
  }
 },
 "nbformat": 4,
 "nbformat_minor": 4
}
